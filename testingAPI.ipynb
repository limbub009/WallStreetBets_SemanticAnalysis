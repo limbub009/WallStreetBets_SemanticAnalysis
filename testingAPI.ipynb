{
 "cells": [
  {
   "cell_type": "code",
   "execution_count": 16,
   "id": "5405c49f",
   "metadata": {},
   "outputs": [
    {
     "name": "stdout",
     "output_type": "stream",
     "text": [
      "Ask Anything Monday - Weekly Thread\n",
      "My brain can't understand the purpose of import [stupid question]\n",
      "Where can I see short bullet points of major things introduced in the various versions of Python?\n",
      "Good resources for Numpy?\n",
      "Problem with function to solve Wordle\n",
      "Issue with Outlook and Python\n",
      "How do you access Tkinter labels that were created with a for loop?\n",
      "Python script for coffee lover.. advice\n",
      "About to turn 40, thinking about a career switch, is it doable?\n",
      "How to get real time quotes of the listed stocks\n"
     ]
    }
   ],
   "source": [
    "import praw\n",
    "\n",
    "reddit = praw.Reddit(\n",
    "    client_id=\"s6_5MHxYtdjtQEfbqigsUg\",\n",
    "    client_secret=\"k-5xUTqcppKyxAmQFtvBMJE5UEYXEg\",\n",
    "    user_agent=\"redtutorial\",\n",
    "    username=\"BishhEzz\",\n",
    "    password=\"Osprey123#\", \n",
    ")\n",
    "\n",
    "for submission in reddit.subreddit(\"learnpython\").hot(limit=10):\n",
    "    print(submission.title)"
   ]
  },
  {
   "cell_type": "code",
   "execution_count": 17,
   "id": "d7b7d42a",
   "metadata": {},
   "outputs": [
    {
     "name": "stdout",
     "output_type": "stream",
     "text": [
      "Monday Megathread! Ask questions and share knowledge; newcomer questions encouraged!\n",
      "Patch 12.5 Bug Megathread\n",
      "Fredit Brion having to forfeit their match isn't really LCK's fault\n",
      "Riot Games Announces New Equity Investment in “Arcane” Animation Studio Fortiche Production\n",
      "[LCK] Announcement: Match 82, GEN vs. BRO on March 16th\n"
     ]
    }
   ],
   "source": []
  },
  {
   "cell_type": "code",
   "execution_count": 46,
   "id": "7f7dd918",
   "metadata": {},
   "outputs": [],
   "source": [
    "# set the program parameters\n",
    "wsb = 'wallstreetbets'    # sub-reddit to search\n",
    "submission_name = 'Daily Discussion' # posts title to search\n",
    "goodAuth = {'AutoModerator'}   # authors whom comments are allowed more than once\n",
    "uniqueCmt = True                # allow one comment per author per symbol\n",
    "ignoreAuthP = {'example'}       # authors to ignore for posts \n",
    "ignoreAuthC = {'example'}       # authors to ignore for comment \n",
    "upvoteRatio = 0.70         # upvote ratio for post to be considered, 0.70 = 70%\n",
    "ups = 20       # define # of upvotes, post is considered if upvotes exceed this #\n",
    "limit = 100      # define the limit, comments 'replace more' limit\n",
    "upvotes = 2     # define # of upvotes, comment is considered if upvotes exceed this #\n",
    "picks = 10     # define # of picks here, prints as \"Top ## picks are:\"\n",
    "picks_ayz = 5   # define # of picks for sentiment analysis\n"
   ]
  },
  {
   "cell_type": "code",
   "execution_count": 56,
   "id": "78aa8c67",
   "metadata": {},
   "outputs": [
    {
     "name": "stdout",
     "output_type": "stream",
     "text": [
      "Weekend Discussion Thread for the Weekend of March 12, 2022\n",
      "Daily Discussion Thread for March 08, 2022\n",
      "Daily Discussion Thread for March 14, 2022\n",
      "What Are Your Moves Tomorrow, March 15, 2022\n",
      "Daily Discussion Thread for March 10, 2022\n",
      "Daily Discussion Thread for March 09, 2022\n",
      "Daily Discussion Thread for March 07, 2022\n",
      "What Are Your Moves Tomorrow, March 08, 2022\n",
      "What Are Your Moves Tomorrow, March 14, 2022\n",
      "Weekend Discussion Thread for the Weekend of March 05, 2022\n"
     ]
    }
   ],
   "source": [
    "for submission in reddit.subreddit('wallstreetbets').search('flair:\"Discussion\"', limit=10):\n",
    "    print (submission.title)"
   ]
  },
  {
   "cell_type": "code",
   "execution_count": 90,
   "id": "39a9cdb3",
   "metadata": {},
   "outputs": [
    {
     "name": "stdout",
     "output_type": "stream",
     "text": [
      "Gargle my red white and blue nuts, you bunch of dirty fucking communists\n",
      "Daily Discussion Thread for March 15, 2022\n",
      "WSB Pre-Market Community Talk for Tuesday March 15th, 2022 (8:30am - 9:30am EST)\n",
      "Reasons the US stock market should not scare you\n",
      "US stock market has gone insane\n",
      "What Are Your Moves Tomorrow, March 15, 2022\n",
      "Zuckerberg sold billions worth of FB stock during the ATH, and no one took that as a red flag?\n",
      "Best ETF play for the current macro situation. What's on your radar rn fellas?\n",
      "BUY $SNAP - Cramer’s lightning round: Stay away from Snap here\n",
      "Why do oil stocks go down\n",
      "Apes/retards/degenerates, brace for a massive rally tomorrow due to 3 reasons!\n",
      "Daily Discussion Thread for March 14, 2022\n",
      "Change my mind: $BABA is a value trap\n",
      "VXX and VIX price imbalance ~ can someone help me out? I think it's the market recognizing that a bearish period is coming to stay\n",
      "If you knew an Industry would double by 2025, how could you lose?\n",
      "Intuitions are loaded to the tits on stock they tell us to panic sell - over 90% ownership of share outstanding in these growth names - $VRM , $MRVL , $RBLX , $DKNG , $AFRM , $UBER\n",
      "Anyone buying Sberbank?? (Price dropped 99%)\n",
      "Is It The Shorts? Or Is It The Stock?\n",
      "Why is WTI down over 8% Today?\n",
      "WSB Pre-Market Community Talk for Monday March 14th, 2022 (8:30am - 9:30am EST)\n",
      "Every sign seems bad and points to a bad market. Is this one of those \"be greedy when others are fearful\" kind of moments that Buffet famously talked about?\n",
      "Why do I have such a LARGE negative balance when trading options on margin?\n",
      "True inflation is around 17% (PRIME DD)\n",
      "Uranium prices about to take off\n",
      "What Are Your Moves Tomorrow, March 14, 2022\n",
      "Alright guys, I said fuck it.\n",
      "Y’all are too hung up on Russia collapsing. It’s the US that will suffer the most.\n",
      "What do you degenerates do?!\n",
      "does any stock exchange offer Russian shares?\n",
      "China Is Pulling A March 2020 In Case Anyone Didn't Notice\n",
      "Reselling Gas\n",
      "The bull market was a good thing, not in the way you think though.\n",
      "DONT BUY THE DIP!!\n",
      "So who is planning to buy next week?\n",
      "If market begins to crash for recession, what happens to those stocks that already got beaten?\n",
      "UPDATE: I know I'm not the first autist to profit off of instant buying power and then remember my bank might not have enough money to cover the initial transfer.... What to expect.\n",
      "With the likelihood of a recession increasing everyday due to oil and gas prices staying elevated. What is everyone buying puts on?\n",
      "How long would it take to set up a farm?\n",
      "DOW response to acts of war by RBC GAM, Davis Research.\n",
      "SOFI = New Money Printer\n",
      "If All celebrity SPAC's lose money and fail, and I short all SPAC's, how big will my loss Porn be?\n",
      "Where can I buy shitty bonds?\n",
      "Latest gov Spending\n",
      "Moscow Stock Exchange (MOEX) just announced that it remain closed for the next week\n",
      "If you thought the nickel price 🚀 was impressive last week wait until you see silver coming up! the most suppressed/ concentrated naked short commodity of all time! Get your PM mining stocks and get ready for lambo season bitches\n",
      "Maybe im just big dumb but\n",
      "Ruble options\n",
      "I am sick of not being a billionaire\n",
      "Will high gas prices hurt GM, Ford, and RAM?\n",
      "Help with wash sale…\n",
      "[serious] I figure out how they’re going to solve inflation. Continued....\n",
      "What would you suggest would be a good Aerospace & Defense ETF?\n",
      "Question re: After Hours Purchase\n",
      "2008 Called again. They still want their SPY chart and really like watching Breaking Bad.\n",
      "Weekend Discussion Thread for the Weekend of March 12, 2022\n",
      "The most underrated book that I have ever read: super timing. This is my interpretation for people who don't read books on this shit.\n",
      "Ruble spike up? why?\n",
      "victory is ours\n",
      "Day trading advice\n",
      "Elon Musk March 11, 2022. “I think modern nuclear power is very safe, despite what the public may think.”\n",
      "Inflation will continuously go up and the plunge protection team is not letting the stock market crash\n",
      "So, what's the real story?\n",
      "mostly peaceful inflation!\n",
      "Deutsche Bank defends decision not to exit Russia: It's not 'practical' right now\n",
      "I am down 55%\n",
      "Without bailouts the EV startups go to zero and Putin will break the EU apart in <24 months by creating global instability with history's greatest refugee crisis\n",
      "Why is Russian Rubble jumping like that?\n",
      "Did I sell my Marathon stock too soon?\n",
      "Put option on Russian equities\n",
      "DKNG - over 100% owned by institutions ??\n",
      "From 10k to loser to 50k challenge using SPY 0DTE option trading - Update 5\n",
      "Daily Discussion Thread for March 11, 2022\n",
      "Bring Back Memes Please\n",
      "The DRS/direct registration/switch from street name to record name \"movement\" is a bonafide Reddit Moment.\n",
      "What happened to all the lossporn and gainsporn (and YOLOs)?\n",
      "lol, it begins: [Bloomberg] The Fed Needs to Delay Its Rate Hikes\n",
      "I inversed WSB and still lost…\n",
      "I don't understand why gas is becoming expensive in the US...\n",
      "Holding oil today ! Carrying over to Monday.\n",
      "Unpopular Opinion: I think Inflation will ease out, even if the Fed barely raise rates\n",
      "Putin is considering drilling Russia even further into the ground\n",
      "What happen to BABA? We need to prepare a burial?\n",
      "what do you think is next?\n",
      "SPY $400 gap fill on the way. Anyone else think otherwise?\n",
      "WSB Pre-Market Community Talk for Friday March 11th, 2022 (8:30am - 9:30am EST)\n",
      "5 Reasons why RECESSION IS COMING in 2022\n",
      "Why the market seems to hate you specifically\n",
      "Oil and Market\n",
      "One of the 120B banks apparently is on the FDIC s*it list\n",
      "Wake up... The Fed won't fight inflation....\n",
      "$RSX Puts expiring today\n",
      "A Nickel For Your Thoughts\n",
      "Gold Standard Advocates, WTF\n",
      "What Are Your Moves Tomorrow, March 11, 2022\n",
      "SEC delisting Chinese stocks....conspiracy?\n",
      "Understanding wash sales.\n",
      "RIVN is dead in the water and their trucks won't even float.\n",
      "Fitting GEX and DIX into your tiny, tiny brains in case it helps you trade better\n",
      "Stocks can’t go negative? I have an idea\n",
      "Sony just single handedly made Putin regret the war on Ukraine\n"
     ]
    }
   ],
   "source": [
    "\n",
    "\n",
    "WSB= reddit.subreddit(wsb).search('flair:\"Discussion\"', sort = \"hot\")\n",
    "\n",
    "for sub in WSB:\n",
    "    print (sub.title)\n",
    "    \n",
    "\n",
    "\n",
    "\n",
    "\n"
   ]
  },
  {
   "cell_type": "code",
   "execution_count": null,
   "id": "8d6c87fd",
   "metadata": {},
   "outputs": [],
   "source": []
  }
 ],
 "metadata": {
  "kernelspec": {
   "display_name": "Python 3 (ipykernel)",
   "language": "python",
   "name": "python3"
  },
  "language_info": {
   "codemirror_mode": {
    "name": "ipython",
    "version": 3
   },
   "file_extension": ".py",
   "mimetype": "text/x-python",
   "name": "python",
   "nbconvert_exporter": "python",
   "pygments_lexer": "ipython3",
   "version": "3.9.5"
  }
 },
 "nbformat": 4,
 "nbformat_minor": 5
}
