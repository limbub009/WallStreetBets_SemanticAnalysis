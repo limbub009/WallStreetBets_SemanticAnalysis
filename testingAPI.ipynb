{
 "cells": [
  {
   "cell_type": "code",
   "execution_count": 5,
   "id": "5405c49f",
   "metadata": {},
   "outputs": [],
   "source": [
    "import praw\n",
    "\n",
    "reddit = praw.Reddit(\n",
    "    client_id=\"s6_5MHxYtdjtQEfbqigsUg\",\n",
    "    client_secret=\"k-5xUTqcppKyxAmQFtvBMJE5UEYXEg\",\n",
    "    user_agent=\"redtutorial\",\n",
    "    username=\"BishhEzz\",\n",
    "    password=\"Osprey123#\", \n",
    ")\n",
    "\n",
    "\n",
    "\n",
    "#API Information and OAuth"
   ]
  },
  {
   "cell_type": "code",
   "execution_count": null,
   "id": "d7b7d42a",
   "metadata": {},
   "outputs": [],
   "source": []
  },
  {
   "cell_type": "code",
   "execution_count": 2,
   "id": "7f7dd918",
   "metadata": {},
   "outputs": [],
   "source": [
    "# set the program parameters\n",
    "wsb = 'wallstreetbets'    # sub-reddit to search\n",
    "submission_name = 'Daily Discussion' # posts title to search\n",
    "goodAuth = {'AutoModerator'}   # authors whom comments are allowed more than once\n",
    "uniqueCmt = True                # allow one comment per author per symbol\n",
    "ignoreAuthP = {'example'}       # authors to ignore for posts \n",
    "ignoreAuthC = {'example'}       # authors to ignore for comment \n",
    "upvoteRatio = 0.70         # upvote ratio for post to be considered, 0.70 = 70%\n",
    "ups = 20       # define # of upvotes, post is considered if upvotes exceed this #\n",
    "limit = 100      # define the limit, comments 'replace more' limit\n",
    "upvotes = 2     # define # of upvotes, comment is considered if upvotes exceed this #\n",
    "picks = 10     # define # of picks here, prints as \"Top ## picks are:\"\n",
    "picks_ayz = 5   # define # of picks for sentiment analysis\n"
   ]
  },
  {
   "cell_type": "code",
   "execution_count": 3,
   "id": "78aa8c67",
   "metadata": {},
   "outputs": [
    {
     "name": "stdout",
     "output_type": "stream",
     "text": [
      "Weekend Discussion Thread for the Weekend of April 15, 2022\n",
      "What Are Your Moves Tomorrow, April 21, 2022\n",
      "Daily Discussion Thread for April 20, 2022\n",
      "What Are Your Moves Tomorrow, April 20, 2022\n",
      "Daily Discussion Thread for April 21, 2022\n",
      "Daily Discussion Thread for April 19, 2022\n",
      "What Are Your Moves Tomorrow, April 19, 2022\n",
      "Daily Discussion Thread for April 18, 2022\n",
      "Daily Discussion Thread for April 12, 2022\n",
      "Weekend Discussion Thread for the Weekend of April 09, 2022\n"
     ]
    }
   ],
   "source": []
  },
  {
   "cell_type": "code",
   "execution_count": 6,
   "id": "39a9cdb3",
   "metadata": {},
   "outputs": [],
   "source": [
    "\n",
    "\n",
    "posts = 0\n",
    "count = 0\n",
    "comm_analysed = 0\n",
    "tickers = { }\n",
    "titles = [ ] \n",
    "a_comments = { }\n",
    "\n",
    "\n",
    "WSB = reddit.subreddit(wsb)\n",
    "hotWSB = WSB.hot()\n",
    "\n",
    "for submission in hotWSB:\n",
    "    flair = \"Discussion\"\n",
    "    author = su\n",
    "    \n",
    "\n",
    "\n",
    "\n",
    "\n"
   ]
  },
  {
   "cell_type": "code",
   "execution_count": null,
   "id": "8d6c87fd",
   "metadata": {},
   "outputs": [],
   "source": []
  }
 ],
 "metadata": {
  "kernelspec": {
   "display_name": "Python 3 (ipykernel)",
   "language": "python",
   "name": "python3"
  },
  "language_info": {
   "codemirror_mode": {
    "name": "ipython",
    "version": 3
   },
   "file_extension": ".py",
   "mimetype": "text/x-python",
   "name": "python",
   "nbconvert_exporter": "python",
   "pygments_lexer": "ipython3",
   "version": "3.9.5"
  }
 },
 "nbformat": 4,
 "nbformat_minor": 5
}
